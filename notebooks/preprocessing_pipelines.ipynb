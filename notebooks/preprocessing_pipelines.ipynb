{
 "cells": [
  {
   "cell_type": "markdown",
   "id": "153b807b",
   "metadata": {},
   "source": [
    "# Preprocessing Pipelines Prototyping for fasta straints\n",
    "#### Researcher: VMLCODE"
   ]
  },
  {
   "cell_type": "markdown",
   "id": "3ec9411d",
   "metadata": {},
   "source": [
    "## Import pakages"
   ]
  },
  {
   "cell_type": "code",
   "execution_count": 130,
   "id": "8a1eec77",
   "metadata": {},
   "outputs": [],
   "source": [
    "import pandas as pd\n",
    "import numpy as np\n",
    "import os\n",
    "\n",
    "from Bio import SeqIO\n",
    "from Bio.SeqUtils import gc_fraction, molecular_weight\n",
    "from itertools import product"
   ]
  },
  {
   "cell_type": "code",
   "execution_count": 131,
   "id": "0a8803e1",
   "metadata": {},
   "outputs": [],
   "source": [
    "def extract_sequences_from_directory(directory):\n",
    "    sequences = []\n",
    "    for filename in os.listdir(directory):\n",
    "        filepath = os.path.join(directory, filename)\n",
    "        for record in SeqIO.parse(filepath, \"fasta\"):\n",
    "            seq = str(record.seq)\n",
    "            if len(seq) > 0:\n",
    "                sequences.append([seq, record.id])\n",
    "    return sequences"
   ]
  },
  {
   "cell_type": "code",
   "execution_count": 132,
   "id": "a2a0c473",
   "metadata": {},
   "outputs": [],
   "source": [
    "def populate_amr_fasta_dataset(dir_path):\n",
    "    df = pd.DataFrame(columns=['sample_id', 'sequence', 'label (not resistant[0]/resistant[1] to Trimethoprim)'])\n",
    "    for directory in os.listdir(dir_path):\n",
    "        if directory == '0':\n",
    "            for seq in extract_sequences_from_directory(os.path.join(dir_path, directory)):\n",
    "                df.loc[len(df)] = [seq[1], seq[0], 0]\n",
    "        if directory == '1':\n",
    "            for seq in extract_sequences_from_directory(os.path.join(dir_path, directory)):\n",
    "                df.loc[len(df)] = [seq[1], seq[0], 1]\n",
    "    df.to_csv('../Examples/amr_fasta_dataset.csv', index=False)    \n",
    "populate_amr_fasta_dataset(\"../Examples\")    "
   ]
  },
  {
   "cell_type": "code",
   "execution_count": 133,
   "id": "cf1f1f90",
   "metadata": {},
   "outputs": [
    {
     "data": {
      "text/html": [
       "<div>\n",
       "<style scoped>\n",
       "    .dataframe tbody tr th:only-of-type {\n",
       "        vertical-align: middle;\n",
       "    }\n",
       "\n",
       "    .dataframe tbody tr th {\n",
       "        vertical-align: top;\n",
       "    }\n",
       "\n",
       "    .dataframe thead th {\n",
       "        text-align: right;\n",
       "    }\n",
       "</style>\n",
       "<table border=\"1\" class=\"dataframe\">\n",
       "  <thead>\n",
       "    <tr style=\"text-align: right;\">\n",
       "      <th></th>\n",
       "      <th>sample_id</th>\n",
       "      <th>sequence</th>\n",
       "      <th>label (not resistant[0]/resistant[1] to Trimethoprim)</th>\n",
       "    </tr>\n",
       "  </thead>\n",
       "  <tbody>\n",
       "    <tr>\n",
       "      <th>0</th>\n",
       "      <td>CP133856.1</td>\n",
       "      <td>TAACTCCCTATAATGCGCCACCACTGACACGGAACAACGGCAAACA...</td>\n",
       "      <td>0</td>\n",
       "    </tr>\n",
       "    <tr>\n",
       "      <th>1</th>\n",
       "      <td>CP173596.1</td>\n",
       "      <td>TTTCGCCCGGATGGATGTCCTGTACGGATAACTGGAACATAGTTCT...</td>\n",
       "      <td>0</td>\n",
       "    </tr>\n",
       "    <tr>\n",
       "      <th>2</th>\n",
       "      <td>CP173597.1</td>\n",
       "      <td>TTTTACTGCGCCGGCTGACGCGGCGCGGCAGGAACGCTGCCTGTGG...</td>\n",
       "      <td>0</td>\n",
       "    </tr>\n",
       "    <tr>\n",
       "      <th>3</th>\n",
       "      <td>CP173595.1</td>\n",
       "      <td>ACCTCCCGGAGTTTGTTCGGGACCATCCACCGCTCCATCTCACGGA...</td>\n",
       "      <td>0</td>\n",
       "    </tr>\n",
       "    <tr>\n",
       "      <th>4</th>\n",
       "      <td>CP173593.1</td>\n",
       "      <td>TCCGGATGATCGGATTCGACAGTGAAAGTTTTATCTGTCGCATTTG...</td>\n",
       "      <td>0</td>\n",
       "    </tr>\n",
       "    <tr>\n",
       "      <th>5</th>\n",
       "      <td>CP173594.1</td>\n",
       "      <td>ACTTCTTTGACGGCTTTTGGCGTTGCAGCGCGCGTTTCAGAAGTAC...</td>\n",
       "      <td>0</td>\n",
       "    </tr>\n",
       "    <tr>\n",
       "      <th>6</th>\n",
       "      <td>CP119740.1</td>\n",
       "      <td>GTGTCACTTTCGCTTTGGCAGCAGTGTCTTGCCCGATTGCAGGATG...</td>\n",
       "      <td>1</td>\n",
       "    </tr>\n",
       "    <tr>\n",
       "      <th>7</th>\n",
       "      <td>CP119741.1</td>\n",
       "      <td>TGGTTTATGGGGCCCTCTCCCTGATTCGCATGTCGTGCTTTTTCTT...</td>\n",
       "      <td>1</td>\n",
       "    </tr>\n",
       "    <tr>\n",
       "      <th>8</th>\n",
       "      <td>CP119742.1</td>\n",
       "      <td>GGGGCTGGAATGTCAACGTATCCCGGGTGATGGATAACGCCACACA...</td>\n",
       "      <td>1</td>\n",
       "    </tr>\n",
       "    <tr>\n",
       "      <th>9</th>\n",
       "      <td>CP119743.1</td>\n",
       "      <td>TACACCAATTAGGTAAAGTTATTTTTAAGTATCGAGGCAACTTTCA...</td>\n",
       "      <td>1</td>\n",
       "    </tr>\n",
       "    <tr>\n",
       "      <th>10</th>\n",
       "      <td>CP119744.1</td>\n",
       "      <td>GAAATGGACGAACAGTGGGGATACGTCGGGGCTAAATCGCGCCAGC...</td>\n",
       "      <td>1</td>\n",
       "    </tr>\n",
       "    <tr>\n",
       "      <th>11</th>\n",
       "      <td>CP119745.1</td>\n",
       "      <td>TACCGCTGGGCCATTGCGGGCTGAATGTATCAGGGCTGAGAAAAAC...</td>\n",
       "      <td>1</td>\n",
       "    </tr>\n",
       "    <tr>\n",
       "      <th>12</th>\n",
       "      <td>LS992180.1</td>\n",
       "      <td>GTGTCACTTTCGCTTTGGCAGCAGTGTCTTGCCCGATTGCAGGATG...</td>\n",
       "      <td>1</td>\n",
       "    </tr>\n",
       "    <tr>\n",
       "      <th>13</th>\n",
       "      <td>LS992181.1</td>\n",
       "      <td>CTCCAGAACAAACCTCCCGCAGAAATATCCCTGTCAAACCAGCGAC...</td>\n",
       "      <td>1</td>\n",
       "    </tr>\n",
       "    <tr>\n",
       "      <th>14</th>\n",
       "      <td>LS992182.1</td>\n",
       "      <td>GCGGGGTACGGGAACAGGCCATACTGACACAGGCCATTCGCAGTGA...</td>\n",
       "      <td>1</td>\n",
       "    </tr>\n",
       "  </tbody>\n",
       "</table>\n",
       "</div>"
      ],
      "text/plain": [
       "     sample_id                                           sequence  \\\n",
       "0   CP133856.1  TAACTCCCTATAATGCGCCACCACTGACACGGAACAACGGCAAACA...   \n",
       "1   CP173596.1  TTTCGCCCGGATGGATGTCCTGTACGGATAACTGGAACATAGTTCT...   \n",
       "2   CP173597.1  TTTTACTGCGCCGGCTGACGCGGCGCGGCAGGAACGCTGCCTGTGG...   \n",
       "3   CP173595.1  ACCTCCCGGAGTTTGTTCGGGACCATCCACCGCTCCATCTCACGGA...   \n",
       "4   CP173593.1  TCCGGATGATCGGATTCGACAGTGAAAGTTTTATCTGTCGCATTTG...   \n",
       "5   CP173594.1  ACTTCTTTGACGGCTTTTGGCGTTGCAGCGCGCGTTTCAGAAGTAC...   \n",
       "6   CP119740.1  GTGTCACTTTCGCTTTGGCAGCAGTGTCTTGCCCGATTGCAGGATG...   \n",
       "7   CP119741.1  TGGTTTATGGGGCCCTCTCCCTGATTCGCATGTCGTGCTTTTTCTT...   \n",
       "8   CP119742.1  GGGGCTGGAATGTCAACGTATCCCGGGTGATGGATAACGCCACACA...   \n",
       "9   CP119743.1  TACACCAATTAGGTAAAGTTATTTTTAAGTATCGAGGCAACTTTCA...   \n",
       "10  CP119744.1  GAAATGGACGAACAGTGGGGATACGTCGGGGCTAAATCGCGCCAGC...   \n",
       "11  CP119745.1  TACCGCTGGGCCATTGCGGGCTGAATGTATCAGGGCTGAGAAAAAC...   \n",
       "12  LS992180.1  GTGTCACTTTCGCTTTGGCAGCAGTGTCTTGCCCGATTGCAGGATG...   \n",
       "13  LS992181.1  CTCCAGAACAAACCTCCCGCAGAAATATCCCTGTCAAACCAGCGAC...   \n",
       "14  LS992182.1  GCGGGGTACGGGAACAGGCCATACTGACACAGGCCATTCGCAGTGA...   \n",
       "\n",
       "    label (not resistant[0]/resistant[1] to Trimethoprim)  \n",
       "0                                                   0      \n",
       "1                                                   0      \n",
       "2                                                   0      \n",
       "3                                                   0      \n",
       "4                                                   0      \n",
       "5                                                   0      \n",
       "6                                                   1      \n",
       "7                                                   1      \n",
       "8                                                   1      \n",
       "9                                                   1      \n",
       "10                                                  1      \n",
       "11                                                  1      \n",
       "12                                                  1      \n",
       "13                                                  1      \n",
       "14                                                  1      "
      ]
     },
     "execution_count": 133,
     "metadata": {},
     "output_type": "execute_result"
    }
   ],
   "source": [
    "def get_amr_fasta_dataset():\n",
    "    df = pd.read_csv('../Examples/amr_fasta_dataset.csv')\n",
    "    df['sequence'] = df['sequence']\n",
    "    df['sample_id'] = df['sample_id']\n",
    "    df['label (not resistant[0]/resistant[1] to Trimethoprim)'] = df['label (not resistant[0]/resistant[1] to Trimethoprim)'].astype(int)\n",
    "    return df\n",
    "\n",
    "get_amr_fasta_dataset()"
   ]
  },
  {
   "cell_type": "code",
   "execution_count": 134,
   "id": "3c03fbef",
   "metadata": {},
   "outputs": [],
   "source": [
    "def get_kmers(sequence, k):\n",
    "    return [sequence[i:i+k] for i in range(len(sequence) - k + 1)]"
   ]
  },
  {
   "cell_type": "code",
   "execution_count": 135,
   "id": "aa0eceb2",
   "metadata": {},
   "outputs": [],
   "source": [
    "def get_all_kmers_dict():\n",
    "    bases = ['A', 'C', 'G', 'T']\n",
    "    kmer_dict = {}\n",
    "    kmers = [''.join(p) for p in product(bases, repeat=4)]\n",
    "    for kmer in kmers:\n",
    "            kmer_dict[kmer] = 0\n",
    "    return kmer_dict "
   ]
  },
  {
   "cell_type": "code",
   "execution_count": 136,
   "id": "0305d48d",
   "metadata": {},
   "outputs": [],
   "source": [
    "def get_kmer_frequencies(sequence, k):\n",
    "  kmer_list = get_kmers(sequence, k)\n",
    "  kmer_dict = get_all_kmers_dict()\n",
    "  for kmer in kmer_list:\n",
    "        if kmer in kmer_dict:\n",
    "         kmer_dict[kmer] += 1\n",
    "  return kmer_dict"
   ]
  },
  {
   "cell_type": "markdown",
   "id": "34a6053d",
   "metadata": {},
   "source": [
    "### Dataset 1 (Name: K-mer Frequency)\n",
    "\n",
    "##### Example:\n",
    "- **AAAA**: 3474 (Frequency of every KMer)  \n",
    "- **AAAC**: 5938  \n",
    "- **....**: ....  \n",
    "\n",
    "##### Additional Information:\n",
    "- **GC_content**: Percentage of nitrogenous bases in the strain  \n",
    "- **Length**: Length of the chain  \n",
    "- **AT_ratio**: Proportion of adenine and thymine  \n",
    "- **Label**: Metadata for forensic analysis of the model  "
   ]
  },
  {
   "cell_type": "code",
   "execution_count": 137,
   "id": "dab4f09b",
   "metadata": {},
   "outputs": [],
   "source": [
    "def get_gc_content(sequence):\n",
    "    return gc_fraction(sequence)"
   ]
  },
  {
   "cell_type": "code",
   "execution_count": 138,
   "id": "021b126f",
   "metadata": {},
   "outputs": [],
   "source": [
    "def get_sequence_length(sequence):\n",
    "    return len(sequence)"
   ]
  },
  {
   "cell_type": "code",
   "execution_count": 139,
   "id": "1c404215",
   "metadata": {},
   "outputs": [],
   "source": [
    "def get_at_ratio(sequence):\n",
    "    a_count = sequence.count('A')\n",
    "    t_count = sequence.count('T')\n",
    "    return (a_count + t_count) / len(sequence) if len(sequence) > 0 else 0"
   ]
  },
  {
   "cell_type": "code",
   "execution_count": 140,
   "id": "02a0f2ba",
   "metadata": {},
   "outputs": [],
   "source": [
    "def get_molecular_weight(sequence):\n",
    "  return molecular_weight(sequence, seq_type='DNA', monoisotopic=True)"
   ]
  },
  {
   "cell_type": "code",
   "execution_count": 141,
   "id": "166e4129",
   "metadata": {},
   "outputs": [],
   "source": [
    "def create_amr_fasta_kmer_dataset():\n",
    "    df = get_amr_fasta_dataset()\n",
    "    new_rows = []\n",
    "\n",
    "    for i in range(len(df)):\n",
    "        sequence = df['sequence'][i]\n",
    "        kmer_frequencies = get_kmer_frequencies(sequence, 4)\n",
    "        gc_content = get_gc_content(sequence)\n",
    "\n",
    "        # Start with the original row (excluding 'sequence')\n",
    "        row_data = df.drop(columns=['sequence']).iloc[i].to_dict()\n",
    "\n",
    "        # Add k-mer frequencies to it\n",
    "        row_data.update(kmer_frequencies)\n",
    "        row_data['gc_content'] = gc_content\n",
    "        row_data['sequence_length'] = get_sequence_length(sequence)\n",
    "        row_data['at_ratio'] = get_at_ratio(sequence)\n",
    "        row_data['molecular_weight'] = get_molecular_weight(sequence)\n",
    "\n",
    "        new_rows.append(row_data)\n",
    "\n",
    "    result_df = pd.DataFrame(new_rows)\n",
    "    return result_df\n",
    "\n",
    "df1=create_amr_fasta_kmer_dataset()\n",
    "df1.to_csv('../Examples/amr_fasta_dataset_with_kmers.csv', index=False)"
   ]
  },
  {
   "cell_type": "markdown",
   "id": "6a74c58c",
   "metadata": {},
   "source": [
    "### Dataset 2 (Name: FCGR IMAGE 2D Matrix)\n",
    "##### Example:\n",
    "![FCGR_EXAMPLE](https://raw.githubusercontent.com/vmlcode/AMR-VSA25/refs/heads/main/docs/images/EXAMPLE_FCGR.png)"
   ]
  },
  {
   "cell_type": "code",
   "execution_count": 142,
   "id": "cb502206",
   "metadata": {},
   "outputs": [
    {
     "data": {
      "text/plain": [
       "array([1, 0])"
      ]
     },
     "execution_count": 142,
     "metadata": {},
     "output_type": "execute_result"
    }
   ],
   "source": [
    "def base_to_vertex(base):\n",
    "    mapping = {\n",
    "        'A': np.array([1,0]),\n",
    "        'G': np.array([0,1]),\n",
    "        'C': np.array([1,1]),\n",
    "        'T': np.array([0,0]),\n",
    "    }\n",
    "    return np.array(mapping.get(base, np.array([0,0])))\n",
    "\n",
    "base_to_vertex('A')"
   ]
  },
  {
   "cell_type": "code",
   "execution_count": 143,
   "id": "7bcaa9d0",
   "metadata": {},
   "outputs": [],
   "source": [
    "def chaos_game_point(kmer):\n",
    "    point= np.array([0.5, 0.5])\n",
    "    for base in kmer:\n",
    "        vertex = base_to_vertex(base)\n",
    "        if vertex is None:\n",
    "            return None\n",
    "        point = point + vertex\n",
    "        point = point / 2\n",
    "    return point"
   ]
  },
  {
   "cell_type": "code",
   "execution_count": 144,
   "id": "cdefb07b",
   "metadata": {},
   "outputs": [],
   "source": [
    "def kmer_to_index(point, resolution):\n",
    "    x = int(point[0] * resolution)\n",
    "    y = int(point[1] * resolution)\n",
    "    return x, y"
   ]
  },
  {
   "cell_type": "code",
   "execution_count": 145,
   "id": "0430bfae",
   "metadata": {},
   "outputs": [
    {
     "data": {
      "text/plain": [
       "array([[3681., 3092., 2312., ...,  699.,  601.,  295.],\n",
       "       [3528., 2862., 1841., ..., 1171.,  449.,  439.],\n",
       "       [2492., 2769., 1902., ...,  411.,  486.,  943.],\n",
       "       ...,\n",
       "       [2598.,  919., 2483., ...,  522.,  812., 1107.],\n",
       "       [2776., 3765., 1881., ...,  274.,  569.,  655.],\n",
       "       [3653., 2801., 1962., ...,  572.,  346.,  273.]], shape=(64, 64))"
      ]
     },
     "execution_count": 145,
     "metadata": {},
     "output_type": "execute_result"
    }
   ],
   "source": [
    "def generate_fcgr(sequence, k, resolution):\n",
    "    fcgr = np.zeros((resolution, resolution))\n",
    "    for i in range(len(sequence) - k + 1):\n",
    "        kmer = sequence[i:i+k]\n",
    "        point = chaos_game_point(kmer)\n",
    "        if point is not None:\n",
    "            x, y = kmer_to_index(point, resolution)\n",
    "            fcgr[x,y] += 1\n",
    "    return fcgr\n",
    "\n",
    "generate_fcgr(get_amr_fasta_dataset()[\"sequence\"][1], 6, 64)\n"
   ]
  },
  {
   "cell_type": "code",
   "execution_count": null,
   "id": "2aeb0ddd",
   "metadata": {},
   "outputs": [
    {
     "data": {
      "image/png": "[encoded data removed]",
      "text/plain": [
       "<Figure size 640x480 with 1 Axes>"
      ]
     },
     "metadata": {},
     "output_type": "display_data"
    }
   ],
   "source": [
    "plot_fcgr = generate_fcgr(get_amr_fasta_dataset()[\"sequence\"][2], 6, 64)\n",
    "import matplotlib.pyplot as plt\n",
    "plt.imshow(plot_fcgr, cmap='hot', interpolation='nearest', )\n",
    "plt.show()"
   ]
  },
  {
   "cell_type": "code",
   "execution_count": 161,
   "id": "30ad6189",
   "metadata": {},
   "outputs": [],
   "source": [
    "def create_amr_fasta_fcgr_dataset():\n",
    "    df = get_amr_fasta_dataset()\n",
    "    new_rows = []\n",
    "\n",
    "    seq = []\n",
    "    for i in range(len(df)):\n",
    "        sequence = df['sequence'][i]\n",
    "        fcgr = generate_fcgr(sequence, 6, 64)\n",
    "        row_data = df.drop(columns=['sequence']).iloc[i].to_dict()\n",
    "        row_data['fcgr'] = fcgr.flatten().tolist()\n",
    "        new_rows.append(row_data)\n",
    "    result_df = pd.DataFrame(new_rows)\n",
    "    return result_df\n",
    "df2=create_amr_fasta_fcgr_dataset()\n",
    "df2.to_csv('../Examples/amr_fasta_dataset_with_fcgr.csv', index=False)\n",
    "        \n"
   ]
  }
 ],
 "metadata": {
  "kernelspec": {
   "display_name": ".venv",
   "language": "python",
   "name": "python3"
  },
  "language_info": {
   "codemirror_mode": {
    "name": "ipython",
    "version": 3
   },
   "file_extension": ".py",
   "mimetype": "text/x-python",
   "name": "python",
   "nbconvert_exporter": "python",
   "pygments_lexer": "ipython3",
   "version": "3.10.17"
  }
 },
 "nbformat": 4,
 "nbformat_minor": 5
}
